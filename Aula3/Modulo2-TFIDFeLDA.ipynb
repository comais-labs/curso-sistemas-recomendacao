{
 "cells": [
  {
   "cell_type": "markdown",
   "metadata": {},
   "source": [
    "# Filtragem baseada em conteúdo: TF-IDF e LDA"
   ]
  },
  {
   "cell_type": "code",
   "execution_count": 1,
   "metadata": {},
   "outputs": [],
   "source": [
    "# Importação \n",
    "import pickle\n",
    "import numpy as np\n",
    "import pandas as pd \n",
    "from sklearn.feature_extraction.text import TfidfVectorizer\n",
    "from sklearn.feature_extraction.text import CountVectorizer\n",
    "from sklearn.decomposition import LatentDirichletAllocation\n",
    "from sklearn.preprocessing import normalize\n",
    "\n",
    "# Carregando o dataset\n",
    "vinhos_dados_arq_csv = 'data/XWines_Slim_1K_wines.csv'\n",
    "vinhos_avals_arq_csv = 'data/XWines_Slim_150K_ratings.csv'\n",
    "\n",
    "vinhos_dados = pd.read_csv(vinhos_dados_arq_csv)\n",
    "vinhos_avals = pd.read_csv(vinhos_avals_arq_csv, low_memory=False)"
   ]
  },
  {
   "cell_type": "markdown",
   "metadata": {},
   "source": [
    "# Organização dos dados\n",
    "\n",
    "- merge dos arquivos de dataset\n",
    "- limpar atributos \n",
    "- criar um atributo \"description\"\n",
    "- extrair a descrição"
   ]
  },
  {
   "cell_type": "code",
   "execution_count": 2,
   "metadata": {},
   "outputs": [],
   "source": [
    "# Merge dos dataset\n",
    "vinhos = pd.merge(vinhos_dados, vinhos_avals, on='WineID')\n",
    "\n",
    "# Limpar os atributos Grapes e Harmonize \n",
    "uvas = vinhos['Grapes'].str.split(',', expand=True).stack().str.replace('[', '').str.replace(']', '').str.strip()\n",
    "uvas = uvas.reset_index(level=1, drop=True).rename('Grape')\n",
    "\n",
    "harm = vinhos['Harmonize'].str.split(',', expand=True).stack().str.replace('[', '').str.replace(']', '').str.strip()\n",
    "harm = harm.reset_index(level=1, drop=True).rename('Harmonize1')\n",
    "\n",
    "\n",
    "vinhos = vinhos.join(uvas)\n",
    "vinhos = vinhos.join(harm)\n",
    "\n",
    "\n",
    "# Criar o atributo description\n",
    "\n",
    "vinhos['description'] = vinhos['WineName'] + ' ' + vinhos['Type'] + ' ' + vinhos['Grape'] + ' ' + vinhos['Country'] + ' ' + vinhos['RegionName'] + ' ' + vinhos['WineryName'] + ' Harmoniza com  ' + vinhos['Harmonize1']\n",
    "\n",
    "# Extrair as descrições\n",
    "\n",
    "descriptions = vinhos['description']\n"
   ]
  },
  {
   "cell_type": "markdown",
   "metadata": {},
   "source": [
    "# TF-IDF"
   ]
  },
  {
   "cell_type": "code",
   "execution_count": 3,
   "metadata": {},
   "outputs": [],
   "source": [
    "# Criar o vetorizador TF-IDF com suporte a stopwords em inglês e português\n",
    "vectorizer_tfidf = TfidfVectorizer(stop_words=['english', 'portuguese'])\n",
    "tfidf_matrix = vectorizer_tfidf.fit_transform(descriptions)"
   ]
  },
  {
   "cell_type": "markdown",
   "metadata": {},
   "source": [
    "# LDA"
   ]
  },
  {
   "cell_type": "code",
   "execution_count": 4,
   "metadata": {},
   "outputs": [],
   "source": [
    "vectorizer_lda = CountVectorizer(stop_words=['english', 'portuguese'])\n",
    "word_count = vectorizer_lda.fit_transform(descriptions)"
   ]
  },
  {
   "cell_type": "code",
   "execution_count": 5,
   "metadata": {},
   "outputs": [],
   "source": [
    "# Criar o modelo LDA\n",
    "lda = LatentDirichletAllocation(n_components=10, random_state=0)\n",
    "# lda.fit(word_count)"
   ]
  },
  {
   "cell_type": "code",
   "execution_count": 8,
   "metadata": {},
   "outputs": [],
   "source": [
    "# Salvar o modelo\n",
    "# pickle.dump(lda, open('models/lda_model.pkl', 'wb'))\n",
    "\n",
    "# Carregar o modelo\n",
    "lda = pickle.load(open('models/lda_model.pkl', 'rb'))"
   ]
  },
  {
   "cell_type": "code",
   "execution_count": 9,
   "metadata": {},
   "outputs": [
    {
     "name": "stdout",
     "output_type": "stream",
     "text": [
      "Dimensões de tfidf_norm:  (1010887, 2391)\n",
      "Dimensões de lda_norm:  (1010887, 10)\n"
     ]
    }
   ],
   "source": [
    "# Normalizar as matrizes \n",
    "tfidf_norm = normalize(tfidf_matrix)\n",
    "lda_norm = normalize(lda.transform(word_count))\n",
    "\n",
    "# Verificação das dimensões das matrizes\n",
    "print(\"Dimensões de tfidf_norm: \", tfidf_norm.shape)\n",
    "print(\"Dimensões de lda_norm: \", lda_norm.shape)"
   ]
  },
  {
   "cell_type": "markdown",
   "metadata": {},
   "source": [
    "# Perfil de conteúdo"
   ]
  },
  {
   "cell_type": "code",
   "execution_count": 10,
   "metadata": {},
   "outputs": [
    {
     "name": "stdout",
     "output_type": "stream",
     "text": [
      "Dimensões de combined_features:  (1010887, 2401)\n"
     ]
    }
   ],
   "source": [
    "# Converter a matriz esparsa tfidf_norm para um array Numpy denso\n",
    "tfidf_norm_dense = tfidf_norm.toarray()\n",
    "\n",
    "# Concatenar as matrizes tfidf_norm_dense e lda_norm\n",
    "combined_features = np.concatenate((tfidf_norm_dense, lda_norm), axis=1)\n",
    "\n",
    "# Verificação das dimensões da matriz combinada\n",
    "print(\"Dimensões de combined_features: \", combined_features.shape)\n"
   ]
  },
  {
   "cell_type": "markdown",
   "metadata": {},
   "source": [
    "# Perfil do usuário"
   ]
  },
  {
   "cell_type": "code",
   "execution_count": 17,
   "metadata": {},
   "outputs": [
    {
     "data": {
      "text/html": [
       "<div>\n",
       "<style scoped>\n",
       "    .dataframe tbody tr th:only-of-type {\n",
       "        vertical-align: middle;\n",
       "    }\n",
       "\n",
       "    .dataframe tbody tr th {\n",
       "        vertical-align: top;\n",
       "    }\n",
       "\n",
       "    .dataframe thead th {\n",
       "        text-align: right;\n",
       "    }\n",
       "</style>\n",
       "<table border=\"1\" class=\"dataframe\">\n",
       "  <thead>\n",
       "    <tr style=\"text-align: right;\">\n",
       "      <th></th>\n",
       "      <th>WineID</th>\n",
       "      <th>WineName</th>\n",
       "      <th>WineryName</th>\n",
       "      <th>Type</th>\n",
       "      <th>Country</th>\n",
       "    </tr>\n",
       "  </thead>\n",
       "  <tbody>\n",
       "    <tr>\n",
       "      <th>117588</th>\n",
       "      <td>170984</td>\n",
       "      <td>Kadette Cape Blend</td>\n",
       "      <td>Kanonkop</td>\n",
       "      <td>Red</td>\n",
       "      <td>South Africa</td>\n",
       "    </tr>\n",
       "  </tbody>\n",
       "</table>\n",
       "</div>"
      ],
      "text/plain": [
       "        WineID            WineName WineryName Type       Country\n",
       "117588  170984  Kadette Cape Blend   Kanonkop  Red  South Africa"
      ]
     },
     "metadata": {},
     "output_type": "display_data"
    }
   ],
   "source": [
    "from sklearn.metrics.pairwise import cosine_similarity\n",
    "# Construir o perfil do usuário \n",
    "\n",
    "usuario_id = 1000036\n",
    "\n",
    "# Filtrar as avaliações do usuário\n",
    "avaliacoes_usuario = vinhos[vinhos['UserID'] == usuario_id]\n",
    "\n",
    "# Filtrar os vinhos avaliados pelo usuário que possuem boas avaliações\n",
    "avaliacoes_positivas = avaliacoes_usuario[avaliacoes_usuario['Rating'] >= 4]\n",
    "\n",
    "# Extrair as descrições dos vinhos avaliados positivamente\n",
    "descricoes_positivas = avaliacoes_positivas['description']\n",
    "\n",
    "# Usar o tf-idf e lda para transformar as descrições em vetores\n",
    "tfidf_desc_positivas = vectorizer_tfidf.transform(descricoes_positivas)\n",
    "lda_desc_positivas = lda.transform(vectorizer_lda.transform(descricoes_positivas))\n",
    "\n",
    "# Normalizar os vetores\n",
    "tfidf_desc_positivas_norm = normalize(tfidf_desc_positivas)\n",
    "lda_desc_positivas_norm = normalize(lda_desc_positivas)\n",
    "\n",
    "# Perfil do usuário \n",
    "perfil_usuario = np.mean(np.concatenate((tfidf_desc_positivas_norm.toarray(), \n",
    "                                         lda_desc_positivas_norm), axis=1), axis=0)\n",
    "\n",
    "# Recomendação de vinhos\n",
    "\n",
    "# Calcular a similaridade cosseno entre o perfil do usuário e os vinhos\n",
    "similaridade = cosine_similarity([perfil_usuario], combined_features)\n",
    "\n",
    "# Extrair os índices dos 10 vinhos mais similares\n",
    "n_recomedacoes = 10\n",
    "indices_recomendacoes = np.argsort(similaridade[0])[::-1][:n_recomedacoes]\n",
    "\n",
    "recomendacoes = vinhos.iloc[indices_recomendacoes]\n",
    "\n",
    "recomendacoes = recomendacoes.drop_duplicates(subset=['WineID'])\n",
    "\n",
    "display(recomendacoes[['WineID', 'WineName', 'WineryName', 'Type', 'Country']])"
   ]
  },
  {
   "cell_type": "code",
   "execution_count": null,
   "metadata": {},
   "outputs": [],
   "source": []
  }
 ],
 "metadata": {
  "kernelspec": {
   "display_name": "gpuTorch",
   "language": "python",
   "name": "python3"
  },
  "language_info": {
   "codemirror_mode": {
    "name": "ipython",
    "version": 3
   },
   "file_extension": ".py",
   "mimetype": "text/x-python",
   "name": "python",
   "nbconvert_exporter": "python",
   "pygments_lexer": "ipython3",
   "version": "3.11.4"
  }
 },
 "nbformat": 4,
 "nbformat_minor": 2
}
