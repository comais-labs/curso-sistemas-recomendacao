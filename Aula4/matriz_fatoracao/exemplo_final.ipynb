{
 "cells": [
  {
   "cell_type": "code",
   "execution_count": 2,
   "metadata": {},
   "outputs": [],
   "source": [
    "# Suprimir a exibição de mensagens de aviso (warnings).\n",
    "import warnings\n",
    "warnings.filterwarnings(\"ignore\")"
   ]
  },
  {
   "cell_type": "code",
   "execution_count": 3,
   "metadata": {},
   "outputs": [],
   "source": [
    "# Importar bibliotecas\n",
    "import pandas as pd\n",
    "import numpy as np\n",
    "from sklearn.utils.extmath import randomized_svd\n",
    "from sklearn.decomposition import TruncatedSVD\n",
    "import matplotlib.pyplot as plt"
   ]
  },
  {
   "cell_type": "code",
   "execution_count": 4,
   "metadata": {},
   "outputs": [],
   "source": [
    "# Quantidade de vinhos que serão recomendados\n",
    "num_recomenda = 5"
   ]
  },
  {
   "cell_type": "code",
   "execution_count": 5,
   "metadata": {},
   "outputs": [],
   "source": [
    "# Carregar o dataset de vinhos\n",
    "file_path = 'dados_csv//xwines//XWines_Slim_1K_wines.csv'\n",
    "data = pd.read_csv(file_path)\n",
    "\n",
    "# Carregar o dataset de avaliações\n",
    "ratings_file_path = 'dados_csv//xwines//XWines_Slim_150K_ratings.csv'\n",
    "ratings_data = pd.read_csv(ratings_file_path)\n",
    "\n",
    "# Criar a matriz de avaliações\n",
    "R_df = ratings_data.pivot(index='UserID', columns='WineID', values='Rating')"
   ]
  },
  {
   "cell_type": "code",
   "execution_count": 6,
   "metadata": {},
   "outputs": [],
   "source": [
    "# Pré-processamento básico\n",
    "\n",
    "# Define todas as entradas iguais a zero para NaN (não um número)\n",
    "R = R_df.fillna(0).values\n",
    "\n",
    "# Configurar opções de impressão para exibir todas as linhas da matriz de avaliações\n",
    "np.set_printoptions(threshold=np.inf)\n",
    "\n",
    "# Normalizar as avaliações subtraindo a média de cada usuário para lidar com o viés do usuário\n",
    "user_ratings_mean = np.mean(R, axis=1)\n",
    "R_demeaned = R - user_ratings_mean.reshape(-1, 1)"
   ]
  },
  {
   "cell_type": "code",
   "execution_count": 7,
   "metadata": {},
   "outputs": [
    {
     "data": {
      "text/plain": [
       "\"\\nU, S, VT = randomized_svd(R_demeaned, n_components=2)\\nresultados_svd = U.dot(np.diag(S))\\nprint(resultados_svd)\\n\\nplt.scatter(resultados_svd[:, 0], resultados_svd[:, 1], cmap='viridis')\\nplt.xlabel('Dimensão 1')\\nplt.ylabel('Dimensão 2')\\nplt.title('Visualização de Dados Reduzidos com SVD')\\nplt.show()\\n\""
      ]
     },
     "execution_count": 7,
     "metadata": {},
     "output_type": "execute_result"
    }
   ],
   "source": [
    "# Plotar os resultados da normalização no plano cartesiado\n",
    "'''\n",
    "U, S, VT = randomized_svd(R_demeaned, n_components=2)\n",
    "resultados_svd = U.dot(np.diag(S))\n",
    "print(resultados_svd)\n",
    "\n",
    "plt.scatter(resultados_svd[:, 0], resultados_svd[:, 1], cmap='viridis')\n",
    "plt.xlabel('Dimensão 1')\n",
    "plt.ylabel('Dimensão 2')\n",
    "plt.title('Visualização de Dados Reduzidos com SVD')\n",
    "plt.show()\n",
    "'''"
   ]
  },
  {
   "cell_type": "code",
   "execution_count": 8,
   "metadata": {},
   "outputs": [
    {
     "data": {
      "text/plain": [
       "\"\\nvariance_explained = []\\nfor n in range(1, R_demeaned.shape[1] + 1):\\n    svd = TruncatedSVD(n_components=n)\\n    X_svd = svd.fit_transform(R_demeaned)\\n    variance_explained.append(np.sum(svd.explained_variance_ratio_))\\n    print(f'Para n={n}, variance_explained={variance_explained[n-1]}')\\n\""
      ]
     },
     "execution_count": 8,
     "metadata": {},
     "output_type": "execute_result"
    }
   ],
   "source": [
    "# A seguir, calculamos a variância explicada acumulada para diferentes quantidades de \n",
    "# dimensões (componentes principais). Observe que, como esperado, a variância explicada \n",
    "# acumulada aumenta à medida que adicionamos mais dimensões. Você pode escolher o número \n",
    "# de dimensões que captura uma porcentagem significativa # da variância total. Por exemplo, \n",
    "# XWines_Test_100_wines.csv tem 100 vinhos (100 dimensões), se 90% da variância é explicada \n",
    "# por apenas 77 vinhos (dimensões) e isto é considerado adequado para a resolução do problema,\n",
    "# então você pode usar 77 dimensões para a redução de dimensionalidade.\n",
    "'''\n",
    "variance_explained = []\n",
    "for n in range(1, R_demeaned.shape[1] + 1):\n",
    "    svd = TruncatedSVD(n_components=n)\n",
    "    X_svd = svd.fit_transform(R_demeaned)\n",
    "    variance_explained.append(np.sum(svd.explained_variance_ratio_))\n",
    "    print(f'Para n={n}, variance_explained={variance_explained[n-1]}')\n",
    "'''"
   ]
  },
  {
   "cell_type": "code",
   "execution_count": 9,
   "metadata": {},
   "outputs": [],
   "source": [
    "# Pré-processamento: redução de dimensionalidade\n",
    "\n",
    "# Aplicar SVD para decompor (fatorar) a matriz de avaliações\n",
    "U, sigma, Vt = randomized_svd(R_demeaned, n_components=77)"
   ]
  },
  {
   "cell_type": "code",
   "execution_count": 10,
   "metadata": {},
   "outputs": [],
   "source": [
    "# Reconstruir a matriz de avaliações previstas considerando o viés do usário (user_ratings_mean)\n",
    "predicted_ratings = np.dot(np.dot(U, np.diag(sigma)), Vt) + user_ratings_mean.reshape(-1, 1)\n",
    "predicted_ratings_df = pd.DataFrame(predicted_ratings, columns=R_df.columns)"
   ]
  },
  {
   "cell_type": "code",
   "execution_count": 11,
   "metadata": {},
   "outputs": [],
   "source": [
    "# Função para recomendar vinhos com base em harmonização\n",
    "def recommend_wines(user_id, food, num_recommendations=num_recomenda):\n",
    "    # Obter o número da linha referente ao usuário na matriz de avaliações\n",
    "    user_row_number = R_df.index.get_loc(user_id)\n",
    "\n",
    "    # Avaliações originais feitas pelo usuário em ordem decrescente (há vinhos não avaliados)\n",
    "    #original_user_ratings = R_df.iloc[user_row_number].sort_values(ascending=False)\n",
    "\n",
    "    # Obter as avaliações previstas para o usuário em ordem decrescente (todos os vinhos contém avaliações)\n",
    "    sorted_user_ratings = predicted_ratings_df.iloc[user_row_number].sort_values(ascending=False)\n",
    "    \n",
    "    # Filtrar os vinhos que harmonizam com a comida selecionada\n",
    "    harmonized_wines = data[data['Harmonize'].str.contains(food, case=False, na=False)]\n",
    "\n",
    "    # Criar DataFrame para armazenar os vinhos de harmonized_wines (vinhos que harmonizam \n",
    "    # com a comida) e que estão em sorted_user_ratings (avaliações previstas para o usuário \n",
    "    # em ordem decrescente)\n",
    "    merged_data = pd.DataFrame()\n",
    "\n",
    "    # Iterar pelos WineID em sorted_user_ratings\n",
    "    for wine_id in sorted_user_ratings.index:\n",
    "        # Verificar se o WineID está em harmonized_wines\n",
    "        if wine_id in harmonized_wines['WineID'].values:\n",
    "            # Combinar os DataFrames usando merge\n",
    "            merged_data = pd.concat([merged_data, harmonized_wines[harmonized_wines['WineID'] == wine_id]])\n",
    "    # Agora, merged_data contém todos os dados de harmonized_wines para os WineID presentes em sorted_user_ratings\n",
    "    #print(merged_data)\n",
    "\n",
    "    # Recomendar os vinhos com as maiores avaliações previstas que harmonizam com a comida\n",
    "    recommended_wines = merged_data[['WineName', 'Harmonize']].head(num_recommendations) \n",
    "    #recommended_wines = merged_data[['WineID', 'WineName', 'Type', 'Grapes', 'Harmonize']].head(num_recommendations) \n",
    "\n",
    "    return recommended_wines"
   ]
  },
  {
   "cell_type": "code",
   "execution_count": 12,
   "metadata": {},
   "outputs": [
    {
     "name": "stdout",
     "output_type": "stream",
     "text": [
      "Vinhos recomendados: \n",
      "                   WineName                                 Harmonize\n",
      "374  Brunello di Montalcino  ['Beef', 'Lamb', 'Game Meat', 'Poultry']\n",
      "54        Monte Velho Tinto       ['Beef', 'Lamb', 'Veal', 'Poultry']\n",
      "640        Trumpeter Malbec               ['Beef', 'Lamb', 'Poultry']\n",
      "650          Reserva Malbec               ['Beef', 'Lamb', 'Poultry']\n",
      "58     Flor de Crasto Tinto    ['Beef', 'Pasta', 'Lamb', 'Game Meat']\n",
      "\n"
     ]
    }
   ],
   "source": [
    "# Exemplo de uso da função\n",
    "user_id = 1258705  # Substitua pelo ID do usuário desejado 1003868 1258705\n",
    "food = 'Beef'  # Substitua pela comida desejada\n",
    "recommended_wines = recommend_wines(user_id, food, num_recomenda)\n",
    "print(\"Vinhos recomendados: \")\n",
    "print(recommended_wines)\n",
    "print()"
   ]
  }
 ],
 "metadata": {
  "kernelspec": {
   "display_name": "Python 3",
   "language": "python",
   "name": "python3"
  },
  "language_info": {
   "codemirror_mode": {
    "name": "ipython",
    "version": 3
   },
   "file_extension": ".py",
   "mimetype": "text/x-python",
   "name": "python",
   "nbconvert_exporter": "python",
   "pygments_lexer": "ipython3",
   "version": "3.11.6"
  },
  "orig_nbformat": 4
 },
 "nbformat": 4,
 "nbformat_minor": 2
}
